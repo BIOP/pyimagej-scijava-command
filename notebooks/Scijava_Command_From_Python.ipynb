{
 "cells": [
  {
   "cell_type": "code",
   "execution_count": 1,
   "id": "4cf8a8ac",
   "metadata": {},
   "outputs": [],
   "source": [
    "# Create an ImageJ gateway\n",
    "import imagej\n",
    "import functools"
   ]
  },
  {
   "cell_type": "code",
   "execution_count": 2,
   "id": "973df30c",
   "metadata": {},
   "outputs": [],
   "source": [
    "imagej_core_dep = 'net.imagej:imagej:2.1.0'  #'sc.fiji:fiji:2.1.1'\n",
    "#ij = imagej.init(imagej_core_dep, headless=False)\n",
    "\n",
    "myImageJPath = 'C:/Users/nicol/fiji-win64/Fiji.app'\n",
    "ij = imagej.init(myImageJPath, headless=False)"
   ]
  },
  {
   "cell_type": "code",
   "execution_count": 3,
   "id": "138b76be",
   "metadata": {},
   "outputs": [],
   "source": [
    "# Import scijava classes using jimport\n",
    "from scyjava import jimport\n",
    "Command = jimport('org.scijava.command.Command')\n",
    "JPlugin = jimport('org.scijava.plugin.Plugin')\n",
    "Parameter = jimport('org.scijava.plugin.Parameter')\n",
    "ImagePlus = jimport('ij.ImagePlus')"
   ]
  },
  {
   "cell_type": "code",
   "execution_count": 4,
   "id": "15c8aad7",
   "metadata": {},
   "outputs": [],
   "source": [
    "#jpype imports\n",
    "import jpype\n",
    "from jpype import JImplements, JOverride"
   ]
  },
  {
   "cell_type": "code",
   "execution_count": 5,
   "id": "3e5832f8",
   "metadata": {},
   "outputs": [],
   "source": [
    "# Pull in types\n",
    "from jpype.types import *"
   ]
  },
  {
   "cell_type": "code",
   "execution_count": 6,
   "id": "19f359cd",
   "metadata": {},
   "outputs": [],
   "source": [
    "# Creates a simple command\n",
    "@JImplements(Command)\n",
    "class SimpleCommand(object):\n",
    "    @JOverride\n",
    "    def run(self):\n",
    "        print(\"Hello!\")"
   ]
  },
  {
   "cell_type": "code",
   "execution_count": 7,
   "id": "7c8ef269",
   "metadata": {},
   "outputs": [
    {
     "name": "stdout",
     "output_type": "stream",
     "text": [
      "Hello!\n"
     ]
    }
   ],
   "source": [
    "# Instantiate it and run it\n",
    "myCommand = SimpleCommand()\n",
    "myCommand.run()"
   ]
  },
  {
   "cell_type": "code",
   "execution_count": 8,
   "id": "75ac99df",
   "metadata": {},
   "outputs": [],
   "source": [
    "# Problem:\n",
    "# Is there a way to run this command using the command service ?\n",
    "# Can this command appear in the ImageJ GUI ?\n",
    "# Can we make parameters for this command which are recognized in Java?"
   ]
  },
  {
   "cell_type": "code",
   "execution_count": 9,
   "id": "f68ef83b",
   "metadata": {},
   "outputs": [
    {
     "name": "stdout",
     "output_type": "stream",
     "text": [
      "int\n",
      "class ij.ImagePlus\n",
      "class java.lang.String\n",
      "<class '_jpype._JClass'>\n",
      "<java class 'java.lang.Class'>\n"
     ]
    }
   ],
   "source": [
    "# Different class which can be used as input or output parameter\n",
    "print(JInt.class_)\n",
    "print(ImagePlus.class_)\n",
    "print(JString.class_)\n",
    "print(type(JInt))\n",
    "print(type(JInt.class_))"
   ]
  },
  {
   "cell_type": "code",
   "execution_count": 10,
   "id": "84abf1bd",
   "metadata": {},
   "outputs": [],
   "source": [
    "# Attempt at making a demo scijava plugin in python\n",
    "\n",
    "class ScijavaGreetingsCommand:\n",
    "    \n",
    "    def set_name(self,name: JString):\n",
    "        self.name = name\n",
    "    \n",
    "    def __init__(self):\n",
    "        #No extra args accepted. \n",
    "        print(\"ScijavaGreetingsCommand object created\")\n",
    "        \n",
    "    def run(self):\n",
    "        print(\"Command is being run\")\n",
    "        print(\"Hello \"+self.name)\n",
    "    "
   ]
  },
  {
   "cell_type": "code",
   "execution_count": 11,
   "id": "3d24f048",
   "metadata": {},
   "outputs": [
    {
     "name": "stdout",
     "output_type": "stream",
     "text": [
      "Useless called\n",
      "Useless called\n",
      "org.scijava.AbstractContextual.context\n"
     ]
    }
   ],
   "source": [
    "#My wish:\n",
    "\n",
    "def CommandInput(number):\n",
    "    print(\"Useless called\")\n",
    "    def identity(func):\n",
    "        #@functools.wraps(func)\n",
    "        #def wrapper(*args, **kwargs):\n",
    "        #    return func\n",
    "        return func\n",
    "    return identity\n",
    "\n",
    "def repeat(num_times):\n",
    "    def decorator_repeat(func):\n",
    "        @functools.wraps(func)\n",
    "        def wrapper_repeat(*args, **kwargs):\n",
    "            for _ in range(num_times):\n",
    "                value = func(*args, **kwargs)\n",
    "            return value\n",
    "        return wrapper_repeat\n",
    "    return decorator_repeat\n",
    "\n",
    "def useless(num_times):\n",
    "    print(\"Useless called\")\n",
    "    def identity(func):\n",
    "        #@functools.wraps(func)\n",
    "        #def wrapper(*args, **kwargs):\n",
    "        #    return func\n",
    "        return func\n",
    "    return identity\n",
    "\n",
    "@CommandInput(3)\n",
    "class MyPyCommand:        \n",
    "    def run(self):\n",
    "        print(self.name)\n",
    "        print(self.familiar)\n",
    "        greeting = JString(\"MyPyCommand is run\")\n",
    "        print(greeting)\n",
    "\n",
    "@useless(8)\n",
    "@repeat(2)        \n",
    "class AnotherGreetingCommand:\n",
    "    def __init__(self): # no param constructor compulsory TODO : can it be omitted ?\n",
    "        print(\"AnotherGreetingCommand object created\")\n",
    "\n",
    "    @property\n",
    "    def name(self):\n",
    "        return self._name\n",
    "    \n",
    "    @name.setter # The decorator is used for discovery\n",
    "    def name(self, name: JString):\n",
    "        self._name = name # The code in this function will actually not be executed on the java side but it can be useful to keep it functional on the python side\n",
    "    \n",
    "    @property\n",
    "    def greeting(self):\n",
    "        return self._greeting\n",
    "    \n",
    "    def run(self):\n",
    "        self._greeting = \"Hello \" + self.name\n",
    "\n",
    "print(ij.context)"
   ]
  },
  {
   "cell_type": "code",
   "execution_count": 99,
   "id": "19b86861",
   "metadata": {},
   "outputs": [
    {
     "name": "stdout",
     "output_type": "stream",
     "text": [
      "- Registering scijava command\n",
      "- Inputs\n",
      "\t name  :  <java class 'JString'>\n",
      "\t familiar  :  <java class 'JBoolean'>\n",
      "Inputs registered\n",
      "- Outputs\n",
      "\t greetings  :  <java class 'JString'>\n",
      "Outputs registered\n"
     ]
    },
    {
     "name": "stderr",
     "output_type": "stream",
     "text": [
      "[java.lang.Enum.toString] [ERROR] Module threw exception\n",
      "java.lang.IllegalStateException: java.lang.InstantiationException: boolean\n",
      "\tat org.scijava.command.PyCommandInfo$PyCommandModuleItem.getDefaultValue(PyCommandInfo.java:354)\n",
      "\tat org.scijava.module.DefaultModuleService.save(DefaultModuleService.java:290)\n",
      "\tat org.scijava.module.DefaultModuleService.saveInput(DefaultModuleService.java:536)\n",
      "\tat org.scijava.module.DefaultModuleService.lambda$saveInputs$0(DefaultModuleService.java:341)\n",
      "\tat java.util.ArrayList.forEach(ArrayList.java:1259)\n",
      "\tat java.util.Collections$UnmodifiableCollection.forEach(Collections.java:1082)\n",
      "\tat org.scijava.module.DefaultModuleService.saveInputs(DefaultModuleService.java:341)\n",
      "\tat org.scijava.module.process.SaveInputsPreprocessor.process(SaveInputsPreprocessor.java:60)\n",
      "\tat org.scijava.module.ModuleRunner.preProcess(ModuleRunner.java:102)\n",
      "\tat org.scijava.module.ModuleRunner.run(ModuleRunner.java:154)\n",
      "\tat org.scijava.module.ModuleRunner.call(ModuleRunner.java:124)\n",
      "\tat org.scijava.module.ModuleRunner.call(ModuleRunner.java:63)\n",
      "\tat org.scijava.thread.DefaultThreadService.lambda$wrap$2(DefaultThreadService.java:225)\n",
      "\tat java.util.concurrent.FutureTask.run(FutureTask.java:266)\n",
      "\tat java.util.concurrent.ThreadPoolExecutor.runWorker(ThreadPoolExecutor.java:1149)\n",
      "\tat java.util.concurrent.ThreadPoolExecutor$Worker.run(ThreadPoolExecutor.java:624)\n",
      "\tat java.lang.Thread.run(Thread.java:748)\n",
      "Caused by: java.lang.InstantiationException: boolean\n",
      "\tat java.lang.Class.newInstance(Class.java:427)\n",
      "\tat org.scijava.command.PyCommandInfo$PyCommandModuleItem.getDefaultValue(PyCommandInfo.java:347)\n",
      "\t... 16 more\n",
      "Caused by: java.lang.NoSuchMethodException: boolean.<init>()\n",
      "\tat java.lang.Class.getConstructor0(Class.java:3082)\n",
      "\tat java.lang.Class.newInstance(Class.java:412)\n",
      "\t... 17 more\n",
      "[java.lang.Enum.toString] [ERROR] Module threw exception\n",
      "java.lang.IllegalStateException: java.lang.InstantiationException: boolean\n",
      "\tat org.scijava.command.PyCommandInfo$PyCommandModuleItem.getDefaultValue(PyCommandInfo.java:354)\n",
      "\tat org.scijava.module.DefaultModuleService.save(DefaultModuleService.java:290)\n",
      "\tat org.scijava.module.DefaultModuleService.saveInput(DefaultModuleService.java:536)\n",
      "\tat org.scijava.module.DefaultModuleService.lambda$saveInputs$0(DefaultModuleService.java:341)\n",
      "\tat java.util.ArrayList.forEach(ArrayList.java:1259)\n",
      "\tat java.util.Collections$UnmodifiableCollection.forEach(Collections.java:1082)\n",
      "\tat org.scijava.module.DefaultModuleService.saveInputs(DefaultModuleService.java:341)\n",
      "\tat org.scijava.module.process.SaveInputsPreprocessor.process(SaveInputsPreprocessor.java:60)\n",
      "\tat org.scijava.module.ModuleRunner.preProcess(ModuleRunner.java:102)\n",
      "\tat org.scijava.module.ModuleRunner.run(ModuleRunner.java:154)\n",
      "\tat org.scijava.module.ModuleRunner.call(ModuleRunner.java:124)\n",
      "\tat org.scijava.module.ModuleRunner.call(ModuleRunner.java:63)\n",
      "\tat org.scijava.thread.DefaultThreadService.lambda$wrap$2(DefaultThreadService.java:225)\n",
      "\tat java.util.concurrent.FutureTask.run(FutureTask.java:266)\n",
      "\tat java.util.concurrent.ThreadPoolExecutor.runWorker(ThreadPoolExecutor.java:1149)\n",
      "\tat java.util.concurrent.ThreadPoolExecutor$Worker.run(ThreadPoolExecutor.java:624)\n",
      "\tat java.lang.Thread.run(Thread.java:748)\n",
      "Caused by: java.lang.InstantiationException: boolean\n",
      "\tat java.lang.Class.newInstance(Class.java:427)\n",
      "\tat org.scijava.command.PyCommandInfo$PyCommandModuleItem.getDefaultValue(PyCommandInfo.java:347)\n",
      "\t... 16 more\n",
      "Caused by: java.lang.NoSuchMethodException: boolean.<init>()\n",
      "\tat java.lang.Class.getConstructor0(Class.java:3082)\n",
      "\tat java.lang.Class.newInstance(Class.java:412)\n",
      "\t... 17 more\n"
     ]
    }
   ],
   "source": [
    "\n",
    "def ScijavaCommand(**kwargs):      \n",
    "    print(\"- Registering scijava command\")\n",
    "    def registerCommand(func): \n",
    "        \n",
    "        # This class will be registered as a SciJava Command\n",
    "        builder = PyCommandBuilder() # Java PyCommandBuilder\n",
    "        \n",
    "        # The name of the command - to avoid name conflicts, consider a 'virtual' class name with its package\n",
    "        builder = builder.name(kwargs['name'])\n",
    "        \n",
    "        # Register all inputs\n",
    "        print('- Inputs')\n",
    "        for name, javaClass in kwargs['inputs'].items():\n",
    "            print('\\t', name,' : ', javaClass)\n",
    "            builder = builder.input(name, javaClass)\n",
    "            setattr(func, name, None) # declares empty input field \n",
    "        print('Inputs registered')\n",
    "        \n",
    "        # Register all outputs\n",
    "        print('- Outputs')\n",
    "        for name, javaClass in kwargs['outputs'].items():\n",
    "            print('\\t', name,' : ', javaClass)\n",
    "            builder = builder.output(name, javaClass)\n",
    "            setattr(func, name, None) # declares empty output field\n",
    "        print('Outputs registered')\n",
    "                \n",
    "        # Wraps the run function - takes kwargs as input, returns outputs\n",
    "        def wrapped_run(inner_kwargs):\n",
    "            print('Wrapped run called')\n",
    "            print(inner_kwargs)\n",
    "            for name, javaClass in kwargs['inputs'].items():\n",
    "                print(name)\n",
    "                print(str(inner_kwargs[name]))\n",
    "                setattr(func, name, inner_kwargs[name]) # sets inputs \n",
    "            \n",
    "            print('Inputs set!')\n",
    "            print('Running function...')\n",
    "            func.run(func)\n",
    "            print('Run function done!')\n",
    "            outputs = {}\n",
    "            for name, javaClass in kwargs['outputs'].items():\n",
    "                outputs[name] = getattr(func, name) # gets outputs\n",
    "            return JObject(outputs, JClass('java.util.Map'))\n",
    "        \n",
    "        builder = builder.function(wrapped_run)\n",
    "        \n",
    "        # Effectively registers this command\n",
    "        builder.create(kwargs['context']) \n",
    "        return func\n",
    "    \n",
    "    return registerCommand\n",
    "\n",
    "@ScijavaCommand(context = ij.context(),\n",
    "                name = 'pyCommand.MyPyCommand110',\n",
    "                inputs = {'name': JString, 'familiar': JString},\n",
    "                outputs = {'greetings': JString})\n",
    "class MyPyCommand:        \n",
    "        \n",
    "    def run(self):\n",
    "        self.greetings = 'Hello' + str(self.name)\n"
   ]
  },
  {
   "cell_type": "code",
   "execution_count": 94,
   "id": "b06d0a38",
   "metadata": {},
   "outputs": [
    {
     "ename": "AttributeError",
     "evalue": "'MyPyCommand' object has no attribute 'trux'",
     "output_type": "error",
     "traceback": [
      "\u001b[1;31m---------------------------------------------------------------------------\u001b[0m",
      "\u001b[1;31mAttributeError\u001b[0m                            Traceback (most recent call last)",
      "\u001b[1;32m<ipython-input-94-4ccbc04b5938>\u001b[0m in \u001b[0;36m<module>\u001b[1;34m\u001b[0m\n\u001b[0;32m      1\u001b[0m \u001b[0mmpc\u001b[0m \u001b[1;33m=\u001b[0m \u001b[0mMyPyCommand\u001b[0m\u001b[1;33m(\u001b[0m\u001b[1;33m)\u001b[0m\u001b[1;33m\u001b[0m\u001b[1;33m\u001b[0m\u001b[0m\n\u001b[1;32m----> 2\u001b[1;33m \u001b[0mprint\u001b[0m\u001b[1;33m(\u001b[0m\u001b[0mmpc\u001b[0m\u001b[1;33m.\u001b[0m\u001b[0mtrux\u001b[0m\u001b[1;33m)\u001b[0m\u001b[1;33m\u001b[0m\u001b[1;33m\u001b[0m\u001b[0m\n\u001b[0m\u001b[0;32m      3\u001b[0m \u001b[1;33m\u001b[0m\u001b[0m\n\u001b[0;32m      4\u001b[0m \u001b[0mprint\u001b[0m\u001b[1;33m(\u001b[0m\u001b[0mMyPyCommand\u001b[0m\u001b[1;33m.\u001b[0m\u001b[0mname\u001b[0m\u001b[1;33m)\u001b[0m\u001b[1;33m\u001b[0m\u001b[1;33m\u001b[0m\u001b[0m\n",
      "\u001b[1;31mAttributeError\u001b[0m: 'MyPyCommand' object has no attribute 'trux'"
     ]
    }
   ],
   "source": [
    "mpc = MyPyCommand()\n",
    "print(mpc.trux)\n",
    "\n",
    "print(MyPyCommand.name)"
   ]
  },
  {
   "cell_type": "code",
   "execution_count": 13,
   "id": "f455860b",
   "metadata": {},
   "outputs": [],
   "source": [
    "#org.scijava.command.PyCommandBuilder\n",
    "\n",
    "PyCommandBuilder = jimport('org.scijava.command.PyCommandBuilder')\n"
   ]
  },
  {
   "cell_type": "code",
   "execution_count": 52,
   "id": "3b668f97",
   "metadata": {},
   "outputs": [
    {
     "name": "stdout",
     "output_type": "stream",
     "text": [
      "<jpype._jproxy.proxy.TestJavaFunction object at 0x0000019EF19FC4A0>\n",
      "Nico Nico Rom Oli \n",
      "3\n",
      "Function executed with arg ?\n",
      "Coucou coucou coucou\n",
      "Hello Nico Nico Rom Oli \n",
      "<jpype._jproxy.proxy.TestJavaFunction object at 0x0000019EF19FC4A0>\n",
      "Nico Nico Rom Oli \n",
      "3\n",
      "Function executed with arg ?\n",
      "Coucou coucou coucou\n",
      "Hello Nico Nico Rom Oli \n",
      "<jpype._jproxy.proxy.TestJavaFunction object at 0x0000019EF19FC4A0>\n",
      "Nico Nico Rom Oli \n",
      "3\n",
      "Function executed with arg ?\n",
      "Coucou coucou coucou\n",
      "Hello Nico Nico Rom Oli \n",
      "<jpype._jproxy.proxy.TestJavaFunction object at 0x0000019EF19FC4A0>\n",
      "I can't believe this work\n",
      "3\n",
      "Function executed with arg ?\n",
      "Coucou coucou coucou\n",
      "Hello I can't believe this work\n"
     ]
    }
   ],
   "source": [
    "@JImplements(Function)\n",
    "class TestJavaFunction:\n",
    "    @JOverride\n",
    "    def apply(self, arg):\n",
    "        print(self)\n",
    "        print(str(arg['name']))\n",
    "        print(arg['repeat'])\n",
    "        print('Function executed with arg ?')\n",
    "        print('Coucou coucou coucou')\n",
    "        thegreeting = 'Hello '+str(arg['name'])\n",
    "        print(thegreeting)\n",
    "        return JObject({'greetings':thegreeting} , JClass('java.util.Map'))\n",
    "\n",
    "myFunction = TestJavaFunction()\n",
    "    \n",
    "builder = PyCommandBuilder()\n",
    "builder = builder.name(\"pyimagej.MyCommand18\")\n",
    "builder = builder.input(\"name\", JString)\n",
    "builder = builder.input(\"repeat\", JString)\n",
    "builder = builder.output(\"greetings\", JString)\n",
    "buider = builder.function(myFunction)\n",
    "builder.create(ij.getContext())\n",
    "\n",
    "       #.input(\"repeat\", Integer.class)\n",
    "       #.input(\"image\", ImagePlus.class)\n",
    "       #.output(\"greetings\", String.class)\n",
    "       #.menuPath(\"Plugins>DemoPyCommand\")\n",
    "       #.function(inputs -> {\n",
    "       #             Map<String, Object> out = new HashMap<>();\n",
    "       #             for (int i = 0;i<(int)inputs.get(\"repeat\");i++) {\n",
    "       #                 System.out.println(\"Repeat!\");\n",
    "       #             }\n",
    "       #             String greetings = \"Hello \"+inputs.get(\"name\")+\"!\";\n",
    "       #             ((ImagePlus)inputs.get(\"image\")).close();\n",
    "       #             out.put(\"greetings\", greetings);\n",
    "       #             return out;\n",
    "       #         })\n",
    "       #         .create(ij.context());"
   ]
  },
  {
   "cell_type": "code",
   "execution_count": 28,
   "id": "6697b1b9",
   "metadata": {},
   "outputs": [
    {
     "name": "stdout",
     "output_type": "stream",
     "text": [
      "Runnable executed\n",
      "Runnable executed\n",
      "Function executed with argcoucou\n",
      "\t name  :  out\n",
      "\t stuff  :  some stuff\n"
     ]
    }
   ],
   "source": [
    "Runnable = jimport('java.lang.Runnable')\n",
    "Function = jimport('java.util.function.Function')\n",
    "@JImplements(Runnable)\n",
    "class TestJavaRunnable:\n",
    "    @JOverride\n",
    "    def run(self):\n",
    "        print('Runnable executed')\n",
    "        \n",
    "myRunnable = TestJavaRunnable()\n",
    "myRunnable.run()\n",
    "\n",
    "@JImplements(Function)\n",
    "class TestJavaFunction:\n",
    "    @JOverride\n",
    "    def apply(self, arg):\n",
    "        print('Function executed with arg'+arg)\n",
    "        return {'name': 'out', 'stuff': 'some stuff'}\n",
    "        \n",
    "myRunnable = TestJavaRunnable()\n",
    "myRunnable.run()\n",
    "\n",
    "myFunction = TestJavaFunction()\n",
    "output = myFunction.apply('coucou')\n",
    "\n",
    "for k, v in output.items():\n",
    "    print('\\t', k,' : ', v)"
   ]
  },
  {
   "cell_type": "code",
   "execution_count": 137,
   "id": "8317340c",
   "metadata": {},
   "outputs": [
    {
     "name": "stdout",
     "output_type": "stream",
     "text": [
      "I'm a MyPy Command\n",
      "5\n",
      "Nico\n",
      "Nico\n",
      "Nico\n",
      "Nico\n",
      "Nico\n",
      "MyPyCommand is run\n",
      "I'm a MyPy Command\n",
      "Bob\n",
      "Bob\n",
      "Bob\n",
      "MyPyCommand is run\n",
      "Nico\n",
      "Nico\n",
      "Nico\n",
      "Nico\n",
      "Nico\n",
      "MyPyCommand is run\n"
     ]
    }
   ],
   "source": [
    "pyCommand1 = MyPyCommand()\n",
    "pyCommand1.printTest(5)\n",
    "print(pyCommand1.number)\n",
    "pyCommand1.extrafunc = lambda x: x\n",
    "pyCommand1.name = 'Nico'\n",
    "pyCommand1.run()\n",
    "\n",
    "pyCommand2 = MyPyCommand()\n",
    "pyCommand2.printTest(3)\n",
    "pyCommand2.name = 'Bob'\n",
    "pyCommand2.run()\n",
    "pyCommand1.run()\n"
   ]
  },
  {
   "cell_type": "code",
   "execution_count": 60,
   "id": "b4eab4eb",
   "metadata": {},
   "outputs": [
    {
     "name": "stdout",
     "output_type": "stream",
     "text": [
      "ScijavaGreetingsCommand object created\n",
      "Command is being run\n",
      "Hello XD\n",
      "AnotherGreetingCommand object created\n",
      "AnotherGreetingCommand object created\n",
      "Hello Nico\n",
      "Hello Nico\n"
     ]
    }
   ],
   "source": [
    "command = ScijavaGreetingsCommand()\n",
    "command.set_name(\"XD\")\n",
    "command.run()\n",
    "\n",
    "\n",
    "anotherc = AnotherGreetingCommand()\n",
    "anotherc.name = \"Nico\"\n",
    "anotherc.run()\n",
    "print(anotherc.greeting)\n",
    "print(anotherc.greeting)"
   ]
  },
  {
   "cell_type": "code",
   "execution_count": 51,
   "id": "3d648686",
   "metadata": {},
   "outputs": [
    {
     "name": "stdout",
     "output_type": "stream",
     "text": [
      "<__main__.PythonCommandInvestigator object at 0x000002ED676EB970>\n",
      "['__class__', '__delattr__', '__dict__', '__dir__', '__doc__', '__eq__', '__format__', '__ge__', '__getattribute__', '__gt__', '__hash__', '__init__', '__init_subclass__', '__le__', '__lt__', '__module__', '__ne__', '__new__', '__reduce__', '__reduce_ex__', '__repr__', '__setattr__', '__sizeof__', '__str__', '__subclasshook__', '__weakref__', 'run', 'set_name']\n",
      "__class__\n",
      "__delattr__\n",
      "__dict__\n",
      "__dir__\n",
      "__doc__\n",
      "__eq__\n",
      "__format__\n",
      "__ge__\n",
      "__getattribute__\n",
      "__gt__\n",
      "__hash__\n",
      "__init__\n",
      "__init_subclass__\n",
      "__le__\n",
      "__lt__\n",
      "__module__\n",
      "__ne__\n",
      "__new__\n",
      "__reduce__\n",
      "__reduce_ex__\n",
      "__repr__\n",
      "__setattr__\n",
      "__sizeof__\n",
      "__str__\n",
      "__subclasshook__\n",
      "__weakref__\n",
      "run\n",
      "set_name\n"
     ]
    },
    {
     "data": {
      "text/plain": [
       "__main__.PythonCommandInvestigator"
      ]
     },
     "execution_count": 51,
     "metadata": {},
     "output_type": "execute_result"
    }
   ],
   "source": [
    "# Access python class properties through reflection\n",
    "# In order to make it match a scijava command\n",
    "\n",
    "class ScijavaInput:\n",
    "    def __init__(self, name, javaClass):\n",
    "        self.name = name\n",
    "        self.javaClass = javaClass # To be validated\n",
    "\n",
    "class PythonCommandInvestigator:\n",
    "    \n",
    "    inputs = []\n",
    "    outputs = []\n",
    "    \n",
    "    def __init__(self, python_class):\n",
    "        self.python_class = python_class\n",
    "\n",
    "    def listFields(self):\n",
    "        print(dir(self.python_class))\n",
    "        \n",
    "    def parseInputs(self):\n",
    "        for attr in dir(self.python_class):\n",
    "            print(attr)\n",
    "            \n",
    "\n",
    "investigator = PythonCommandInvestigator(ScijavaGreetingsCommand)\n",
    "\n",
    "print(investigator)\n",
    "\n",
    "investigator.listFields()\n",
    "investigator.parseInputs()\n",
    "\n",
    "type(investigator)\n"
   ]
  },
  {
   "cell_type": "code",
   "execution_count": 40,
   "id": "c3a0d786",
   "metadata": {},
   "outputs": [
    {
     "name": "stdout",
     "output_type": "stream",
     "text": [
      "[3, 4, 5]\n",
      "[3, 4, 5, 7]\n",
      "coucou\n",
      "coucou with eval\n",
      "ScijavaGreetingsCommand object created\n",
      "Command is being run\n",
      "Hello Bob\n",
      "Command is being run\n",
      "Hello Bob\n",
      "Command is being run\n",
      "Hello Bob\n"
     ]
    }
   ],
   "source": [
    "l = [3,4,5]\n",
    "print(l)\n",
    "l.append(7)\n",
    "print(l)\n",
    "func = 'print'\n",
    "a = 'coucou'\n",
    "print(a)\n",
    "eval(func+'(\"coucou with eval\")')\n",
    "\n",
    "command = ScijavaGreetingsCommand()\n",
    "command.set_name('Bob')\n",
    "command.run()\n",
    "runMethodOfCommand = getattr(command,'run')\n",
    "runMethodOfCommand\n",
    "runMethodOfCommand = getattr(command,'run') # method bound to an instance of the object\n",
    "runMethodOfCommand()\n",
    "\n",
    "runMethodOfGreetings = getattr(ScijavaGreetingsCommand,'run') # class method\n",
    "runMethodOfGreetings(command) # this needs a self an input because it's a class method\n"
   ]
  },
  {
   "cell_type": "code",
   "execution_count": 20,
   "id": "bba61189",
   "metadata": {},
   "outputs": [
    {
     "name": "stderr",
     "output_type": "stream",
     "text": [
      "[java.lang.Enum.toString] [ERROR] Module threw exception\n",
      "java.lang.NullPointerException\n",
      "\tat org.scijava.command.PyCommandInfo$1.run(PyCommandInfo.java:65)\n",
      "\tat org.scijava.module.ModuleRunner.run(ModuleRunner.java:165)\n",
      "\tat org.scijava.module.ModuleRunner.call(ModuleRunner.java:124)\n",
      "\tat org.scijava.module.ModuleRunner.call(ModuleRunner.java:63)\n",
      "\tat org.scijava.thread.DefaultThreadService.lambda$wrap$2(DefaultThreadService.java:225)\n",
      "\tat java.util.concurrent.FutureTask.run(FutureTask.java:266)\n",
      "\tat java.util.concurrent.ThreadPoolExecutor.runWorker(ThreadPoolExecutor.java:1149)\n",
      "\tat java.util.concurrent.ThreadPoolExecutor$Worker.run(ThreadPoolExecutor.java:624)\n",
      "\tat java.lang.Thread.run(Thread.java:748)\n",
      "[java.lang.Enum.toString] [ERROR] Module threw exception\n",
      "java.lang.NullPointerException\n",
      "\tat org.scijava.command.PyCommandInfo$1.run(PyCommandInfo.java:65)\n",
      "\tat org.scijava.module.ModuleRunner.run(ModuleRunner.java:165)\n",
      "\tat org.scijava.module.ModuleRunner.call(ModuleRunner.java:124)\n",
      "\tat org.scijava.module.ModuleRunner.call(ModuleRunner.java:63)\n",
      "\tat org.scijava.thread.DefaultThreadService.lambda$wrap$2(DefaultThreadService.java:225)\n",
      "\tat java.util.concurrent.FutureTask.run(FutureTask.java:266)\n",
      "\tat java.util.concurrent.ThreadPoolExecutor.runWorker(ThreadPoolExecutor.java:1149)\n",
      "\tat java.util.concurrent.ThreadPoolExecutor$Worker.run(ThreadPoolExecutor.java:624)\n",
      "\tat java.lang.Thread.run(Thread.java:748)\n"
     ]
    }
   ],
   "source": [
    "\n",
    "\n",
    "ij.ui().showUI()"
   ]
  },
  {
   "cell_type": "code",
   "execution_count": 14,
   "id": "55d6418c",
   "metadata": {},
   "outputs": [],
   "source": [
    "CommandInfo = jimport('org.scijava.command.CommandInfo')"
   ]
  },
  {
   "cell_type": "code",
   "execution_count": 19,
   "id": "a47b99fb",
   "metadata": {},
   "outputs": [
    {
     "ename": "TypeError",
     "evalue": "JClass requires str or java.lang.Class instance, not 'type'",
     "output_type": "error",
     "traceback": [
      "\u001b[1;31m---------------------------------------------------------------------------\u001b[0m",
      "\u001b[1;31mTypeError\u001b[0m                                 Traceback (most recent call last)",
      "\u001b[1;32m<ipython-input-19-e3ddd59af0f9>\u001b[0m in \u001b[0;36m<module>\u001b[1;34m\u001b[0m\n\u001b[1;32m----> 1\u001b[1;33m \u001b[0msimpleCommandInfo\u001b[0m \u001b[1;33m=\u001b[0m \u001b[0mCommandInfo\u001b[0m\u001b[1;33m(\u001b[0m\u001b[0mJClass\u001b[0m\u001b[1;33m(\u001b[0m\u001b[0mSimpleCommand\u001b[0m\u001b[1;33m)\u001b[0m\u001b[1;33m)\u001b[0m\u001b[1;33m\u001b[0m\u001b[1;33m\u001b[0m\u001b[0m\n\u001b[0m",
      "\u001b[1;32mD:\\env-pyimagej\\lib\\site-packages\\jpype\\_jclass.py\u001b[0m in \u001b[0;36m__new__\u001b[1;34m(cls, jc, loader, initialize)\u001b[0m\n\u001b[0;32m     97\u001b[0m \u001b[1;33m\u001b[0m\u001b[0m\n\u001b[0;32m     98\u001b[0m         \u001b[1;31m# Pass to class factory to create the type\u001b[0m\u001b[1;33m\u001b[0m\u001b[1;33m\u001b[0m\u001b[1;33m\u001b[0m\u001b[0m\n\u001b[1;32m---> 99\u001b[1;33m         \u001b[1;32mreturn\u001b[0m \u001b[0m_jpype\u001b[0m\u001b[1;33m.\u001b[0m\u001b[0m_getClass\u001b[0m\u001b[1;33m(\u001b[0m\u001b[0mjc\u001b[0m\u001b[1;33m)\u001b[0m\u001b[1;33m\u001b[0m\u001b[1;33m\u001b[0m\u001b[0m\n\u001b[0m\u001b[0;32m    100\u001b[0m \u001b[1;33m\u001b[0m\u001b[0m\n\u001b[0;32m    101\u001b[0m \u001b[1;33m\u001b[0m\u001b[0m\n",
      "\u001b[1;31mTypeError\u001b[0m: JClass requires str or java.lang.Class instance, not 'type'"
     ]
    }
   ],
   "source": [
    "\n",
    "\n",
    "simpleCommandInfo = CommandInfo(JClass(SimpleCommand))"
   ]
  },
  {
   "cell_type": "code",
   "execution_count": 55,
   "id": "22a1e66a",
   "metadata": {},
   "outputs": [],
   "source": [
    "outputs = {}\n"
   ]
  },
  {
   "cell_type": "code",
   "execution_count": 56,
   "id": "39ff3802",
   "metadata": {},
   "outputs": [],
   "source": [
    "outputs['ok'] = 'truc'"
   ]
  },
  {
   "cell_type": "code",
   "execution_count": 57,
   "id": "2615b722",
   "metadata": {},
   "outputs": [
    {
     "name": "stdout",
     "output_type": "stream",
     "text": [
      "{'ok': 'truc'}\n"
     ]
    }
   ],
   "source": [
    "print(outputs)"
   ]
  },
  {
   "cell_type": "code",
   "execution_count": null,
   "id": "b965c20a",
   "metadata": {},
   "outputs": [],
   "source": []
  }
 ],
 "metadata": {
  "kernelspec": {
   "display_name": "Python 3",
   "language": "python",
   "name": "python3"
  },
  "language_info": {
   "codemirror_mode": {
    "name": "ipython",
    "version": 3
   },
   "file_extension": ".py",
   "mimetype": "text/x-python",
   "name": "python",
   "nbconvert_exporter": "python",
   "pygments_lexer": "ipython3",
   "version": "3.8.6"
  }
 },
 "nbformat": 4,
 "nbformat_minor": 5
}
