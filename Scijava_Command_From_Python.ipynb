{
 "cells": [
  {
   "cell_type": "code",
   "execution_count": 1,
   "id": "e16264a6",
   "metadata": {},
   "outputs": [],
   "source": [
    "# Create an ImageJ gateway\n",
    "import imagej"
   ]
  },
  {
   "cell_type": "code",
   "execution_count": 3,
   "id": "f676a55e",
   "metadata": {},
   "outputs": [],
   "source": [
    "imagej_core_dep = 'net.imagej:imagej:2.1.0'  #'sc.fiji:fiji:2.1.1'\n",
    "ij = imagej.init(imagej_core_dep, headless=False)"
   ]
  },
  {
   "cell_type": "code",
   "execution_count": 5,
   "id": "a242bf7f",
   "metadata": {},
   "outputs": [],
   "source": [
    "# Import scijava classes using jimport\n",
    "from scyjava import jimport\n",
    "Command = jimport('org.scijava.command.Command')\n",
    "JPlugin = jimport('org.scijava.plugin.Plugin')\n",
    "Parameter = jimport('org.scijava.plugin.Parameter')"
   ]
  },
  {
   "cell_type": "code",
   "execution_count": 7,
   "id": "f1d023e5",
   "metadata": {},
   "outputs": [],
   "source": [
    "#jpype imports\n",
    "import jpype\n",
    "from jpype import JImplements, JOverride"
   ]
  },
  {
   "cell_type": "code",
   "execution_count": 18,
   "id": "dd11f493",
   "metadata": {},
   "outputs": [],
   "source": [
    "# Pull in types\n",
    "from jpype.types import *"
   ]
  },
  {
   "cell_type": "code",
   "execution_count": 8,
   "id": "10e8836f",
   "metadata": {},
   "outputs": [],
   "source": [
    "# Creates a simple command\n",
    "@JImplements(Command)\n",
    "class SimpleCommand(object):\n",
    "    @JOverride\n",
    "    def run(self):\n",
    "        print(\"Hello!\")"
   ]
  },
  {
   "cell_type": "code",
   "execution_count": 12,
   "id": "1c68d243",
   "metadata": {},
   "outputs": [
    {
     "name": "stdout",
     "output_type": "stream",
     "text": [
      "Hello!\n"
     ]
    }
   ],
   "source": [
    "# Instantiate it and run it\n",
    "myCommand = SimpleCommand()\n",
    "myCommand.run()"
   ]
  },
  {
   "cell_type": "code",
   "execution_count": null,
   "id": "9f37b6de",
   "metadata": {},
   "outputs": [],
   "source": [
    "# Problem:\n",
    "# Is there a way to run this command using the command service ?\n",
    "# Can this command appear in the ImageJ GUI ?\n",
    "# Can we make parameters for this command which are recognized in Java?"
   ]
  },
  {
   "cell_type": "code",
   "execution_count": 13,
   "id": "5cbaa530",
   "metadata": {},
   "outputs": [],
   "source": [
    "\n",
    "\n",
    "ij.ui().showUI()"
   ]
  },
  {
   "cell_type": "code",
   "execution_count": 14,
   "id": "e0e5746c",
   "metadata": {},
   "outputs": [],
   "source": [
    "CommandInfo = jimport('org.scijava.command.CommandInfo')"
   ]
  },
  {
   "cell_type": "code",
   "execution_count": 19,
   "id": "fcd59cdc",
   "metadata": {},
   "outputs": [
    {
     "ename": "TypeError",
     "evalue": "JClass requires str or java.lang.Class instance, not 'type'",
     "output_type": "error",
     "traceback": [
      "\u001b[1;31m---------------------------------------------------------------------------\u001b[0m",
      "\u001b[1;31mTypeError\u001b[0m                                 Traceback (most recent call last)",
      "\u001b[1;32m<ipython-input-19-e3ddd59af0f9>\u001b[0m in \u001b[0;36m<module>\u001b[1;34m\u001b[0m\n\u001b[1;32m----> 1\u001b[1;33m \u001b[0msimpleCommandInfo\u001b[0m \u001b[1;33m=\u001b[0m \u001b[0mCommandInfo\u001b[0m\u001b[1;33m(\u001b[0m\u001b[0mJClass\u001b[0m\u001b[1;33m(\u001b[0m\u001b[0mSimpleCommand\u001b[0m\u001b[1;33m)\u001b[0m\u001b[1;33m)\u001b[0m\u001b[1;33m\u001b[0m\u001b[1;33m\u001b[0m\u001b[0m\n\u001b[0m",
      "\u001b[1;32mD:\\env-pyimagej\\lib\\site-packages\\jpype\\_jclass.py\u001b[0m in \u001b[0;36m__new__\u001b[1;34m(cls, jc, loader, initialize)\u001b[0m\n\u001b[0;32m     97\u001b[0m \u001b[1;33m\u001b[0m\u001b[0m\n\u001b[0;32m     98\u001b[0m         \u001b[1;31m# Pass to class factory to create the type\u001b[0m\u001b[1;33m\u001b[0m\u001b[1;33m\u001b[0m\u001b[1;33m\u001b[0m\u001b[0m\n\u001b[1;32m---> 99\u001b[1;33m         \u001b[1;32mreturn\u001b[0m \u001b[0m_jpype\u001b[0m\u001b[1;33m.\u001b[0m\u001b[0m_getClass\u001b[0m\u001b[1;33m(\u001b[0m\u001b[0mjc\u001b[0m\u001b[1;33m)\u001b[0m\u001b[1;33m\u001b[0m\u001b[1;33m\u001b[0m\u001b[0m\n\u001b[0m\u001b[0;32m    100\u001b[0m \u001b[1;33m\u001b[0m\u001b[0m\n\u001b[0;32m    101\u001b[0m \u001b[1;33m\u001b[0m\u001b[0m\n",
      "\u001b[1;31mTypeError\u001b[0m: JClass requires str or java.lang.Class instance, not 'type'"
     ]
    }
   ],
   "source": [
    "\n",
    "\n",
    "simpleCommandInfo = CommandInfo(JClass(SimpleCommand))"
   ]
  },
  {
   "cell_type": "code",
   "execution_count": null,
   "id": "41e4b0fd",
   "metadata": {},
   "outputs": [],
   "source": []
  }
 ],
 "metadata": {
  "kernelspec": {
   "display_name": "Python 3",
   "language": "python",
   "name": "python3"
  },
  "language_info": {
   "codemirror_mode": {
    "name": "ipython",
    "version": 3
   },
   "file_extension": ".py",
   "mimetype": "text/x-python",
   "name": "python",
   "nbconvert_exporter": "python",
   "pygments_lexer": "ipython3",
   "version": "3.6.13"
  }
 },
 "nbformat": 4,
 "nbformat_minor": 5
}
