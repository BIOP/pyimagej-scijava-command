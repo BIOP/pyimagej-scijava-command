{
 "cells": [
  {
   "cell_type": "code",
   "execution_count": 1,
   "id": "d20f263e",
   "metadata": {},
   "outputs": [],
   "source": [
    "# Create an ImageJ gateway\n",
    "import imagej\n",
    "import functools"
   ]
  },
  {
   "cell_type": "code",
   "execution_count": 2,
   "id": "3ef92f41",
   "metadata": {},
   "outputs": [],
   "source": [
    "# pyimagej initialisation: https://github.com/imagej/pyimagej\n",
    "\n",
    "imagej_core_dep = 'net.imagej:imagej:2.1.0' \n",
    "scijava_command_dep = 'ch.epfl.biop:pyimagej-scijava-command:0.1.2'\n",
    "legacy_dep = 'net.imagej:imagej-legacy:0.37.4'\n",
    "\n",
    "ij = imagej.init([imagej_core_dep, legacy_dep, scijava_command_dep], headless=False)"
   ]
  },
  {
   "cell_type": "code",
   "execution_count": 3,
   "id": "ac8122d4",
   "metadata": {},
   "outputs": [],
   "source": [
    "# Import scijava classes using jimport\n",
    "from scyjava import jimport\n",
    "Command = jimport('org.scijava.command.Command')\n",
    "JPlugin = jimport('org.scijava.plugin.Plugin')\n",
    "Parameter = jimport('org.scijava.plugin.Parameter')\n",
    "ImagePlus = jimport('ij.ImagePlus')"
   ]
  },
  {
   "cell_type": "code",
   "execution_count": 4,
   "id": "bb44963a",
   "metadata": {},
   "outputs": [],
   "source": [
    "# jpype documentation: https://jpype.readthedocs.io/en/latest/\n",
    "\n",
    "#jpype imports\n",
    "import jpype\n",
    "from jpype import JImplements, JOverride\n",
    "\n",
    "# Pull in types\n",
    "from jpype.types import *"
   ]
  },
  {
   "cell_type": "code",
   "execution_count": 5,
   "id": "0a66a264",
   "metadata": {},
   "outputs": [
    {
     "name": "stdout",
     "output_type": "stream",
     "text": [
      "<java class 'JInt'>\n",
      "int\n",
      "<java class 'JBoolean'>\n",
      "boolean\n",
      "<java class 'ij.ImagePlus'>\n",
      "class ij.ImagePlus\n",
      "<java class 'JString'>\n",
      "class java.lang.String\n",
      "<class '_jpype._JClass'>\n",
      "<java class 'java.lang.Class'>\n"
     ]
    }
   ],
   "source": [
    "# Different class which can be used as input or output parameter\n",
    "# points to java object\n",
    "print(JInt)\n",
    "print(JInt.class_)\n",
    "print(JBoolean)\n",
    "print(JBoolean.class_)\n",
    "print(ImagePlus)\n",
    "print(ImagePlus.class_)\n",
    "print(JString)\n",
    "print(JString.class_)\n",
    "\n",
    "# Not sure I understand\n",
    "print(type(JInt))\n",
    "\n",
    "# The class of a class is Class, ok\n",
    "print(type(JInt.class_))"
   ]
  },
  {
   "cell_type": "code",
   "execution_count": 6,
   "id": "6c833bf7",
   "metadata": {},
   "outputs": [],
   "source": [
    "#org.scijava.command.PyCommandBuilder\n",
    "PyCommandBuilder = jimport('org.scijava.command.PyCommandBuilder')\n",
    "\n",
    "# Decorator that registers a python CLASS containing a method named \"run\" as a scijava Command\n",
    "#\n",
    "# This uses PyCommandBuilder which is in the java repo ch.epfl.biop:pyimagej-scijava-command:0.1.0-SNAPSHOT\n",
    "# PyCommandBuilder allows to build a Command fully programmatically without using any\n",
    "# java annotation as java annotations are needed for 'easy' Scijavy Commands definition\n",
    "# but these are not completely supported in JPype: \n",
    "# cf https://github.com/jpype-project/jpype/issues/940\n",
    "# \n",
    "# See cell below for example usage\n",
    "#\n",
    "# Note: this way of defining a command is probably not ideal if this has to be used from the python side also\n",
    "#\n",
    "# Because it's a preliminary work, this decorator prints a lot of stuff in the process\n",
    "#\n",
    "# TODO: functools ?? NOt sure it's necessary\n",
    "\n",
    "def ScijavaCommand(**kwargs):    \n",
    "    \n",
    "    print(\"- Registering scijava command \"+kwargs['name'])\n",
    "    \n",
    "    def registerCommand(func): \n",
    "        # This class will be registered as a SciJava Command\n",
    "        builder = PyCommandBuilder() # Java PyCommandBuilder\n",
    "        \n",
    "        # The name of the command - to avoid name conflicts, consider a 'virtual' class name with its package\n",
    "        builder = builder.name(kwargs['name'])\n",
    "        \n",
    "        # Register all inputs\n",
    "        print('- Inputs')\n",
    "        for name, javaClass in kwargs['inputs'].items():\n",
    "            print('\\t', name,' : ', javaClass)\n",
    "            builder = builder.input(name, javaClass)\n",
    "            setattr(func, name, None) # declares empty input field \n",
    "        print('Inputs registered')\n",
    "        \n",
    "        # Register all outputs\n",
    "        print('- Outputs')\n",
    "        for name, javaClass in kwargs['outputs'].items():\n",
    "            print('\\t', name,' : ', javaClass)\n",
    "            builder = builder.output(name, javaClass)\n",
    "            setattr(func, name, None) # declares empty output field\n",
    "        print('Outputs registered')\n",
    "                \n",
    "        # Wraps the run function - takes kwargs as input, returns outputs\n",
    "        def wrapped_run(inner_kwargs):\n",
    "            inner_object = func()\n",
    "            print('Settings inputs...')\n",
    "            print(inner_kwargs)\n",
    "            for name, javaClass in kwargs['inputs'].items():\n",
    "                #print(name)\n",
    "                #print(str(inner_kwargs[name]))\n",
    "                setattr(inner_object, name, inner_kwargs[name]) # sets inputs \n",
    "            print('Inputs set.')\n",
    "            print('Running scijava command: '+kwargs['name'])\n",
    "            inner_object.run() #I'm not sure this actually works\n",
    "            print(kwargs['name']+' command execution done.')\n",
    "            print('Fetching outputs...')\n",
    "            outputs = {}\n",
    "            for name, javaClass in kwargs['outputs'].items():\n",
    "                outputs[name] = getattr(inner_object, name) # gets outputs\n",
    "            print('Outputs set.')\n",
    "            return JObject(outputs, JClass('java.util.Map')) # Returns output as a java HashMap\n",
    "        \n",
    "        # Sets the function in PyCommandBuilder:\n",
    "        # Function<Map<String, Object>, Map<String, Object>> command\n",
    "        builder = builder.function(wrapped_run)\n",
    "        \n",
    "        # Effectively registers this command to the ij context\n",
    "        builder.create(kwargs['context']) \n",
    "        return func\n",
    "    \n",
    "    return registerCommand"
   ]
  },
  {
   "cell_type": "code",
   "execution_count": 7,
   "id": "f49b0799",
   "metadata": {},
   "outputs": [
    {
     "name": "stdout",
     "output_type": "stream",
     "text": [
      "- Registering scijava command pyCommand.HelloCommand\n",
      "- Inputs\n",
      "\t name  :  <java class 'JString'>\n",
      "\t familiar  :  <java class 'JBoolean'>\n",
      "Inputs registered\n",
      "- Outputs\n",
      "\t greetings  :  <java class 'JString'>\n",
      "Outputs registered\n"
     ]
    }
   ],
   "source": [
    "# Example of registering a Scijava Command via the @ScijavaCommand decorator\n",
    "\n",
    "@ScijavaCommand(context = ij.context(), # ij context needed\n",
    "                name = 'pyCommand.HelloCommand', # name of this command, mind potential naming conflicts!\n",
    "                inputs = {'name': JString, 'familiar': JBoolean}, # input name, input Java class, as dictionary\n",
    "                outputs = {'greetings': JString}) # output name, output Java class, as dictionary\n",
    "class MyPyCommand:        \n",
    "    def run(self):\n",
    "        if (self.familiar):\n",
    "            self.greetings = 'Hi ' + str(self.name) + '!'\n",
    "        else:\n",
    "            self.greetings = 'Hello my dear ' + str(self.name) + '.'\n"
   ]
  },
  {
   "cell_type": "code",
   "execution_count": 8,
   "id": "68fdbe8a",
   "metadata": {},
   "outputs": [
    {
     "name": "stdout",
     "output_type": "stream",
     "text": [
      "Settings inputs...\n",
      "{name=Bob, familiar=true}\n",
      "Inputs set.\n",
      "Running scijava command: pyCommand.HelloCommand\n",
      "pyCommand.HelloCommand command execution done.\n",
      "Fetching outputs...\n",
      "Outputs set.\n"
     ]
    }
   ],
   "source": [
    "# Now we can start the ui of ImageJ\n",
    "# look for and execute the command 'pyCommand.HelloCommand' in the search bar\n",
    "ij.ui().showUI()\n",
    "\n",
    "# pyCommand.HelloCommand can be recorded in ImageJ and executed using a command service, \n",
    "# either in groovy (or jython) scripting in ImageJ, or in this notebook as shown below"
   ]
  },
  {
   "cell_type": "code",
   "execution_count": 9,
   "id": "fd9fce8b",
   "metadata": {},
   "outputs": [
    {
     "name": "stdout",
     "output_type": "stream",
     "text": [
      "Settings inputs...\n",
      "{name=Bob, familiar=true}\n",
      "Inputs set.\n",
      "Running scijava command: pyCommand.HelloCommand\n",
      "pyCommand.HelloCommand command execution done.\n",
      "Fetching outputs...\n",
      "Outputs set.\n"
     ]
    }
   ],
   "source": [
    "ij.command().run('pyCommand.HelloCommand', True) # no args -> all inputs required, check the UI!"
   ]
  },
  {
   "cell_type": "code",
   "execution_count": 10,
   "id": "18f9a76f",
   "metadata": {},
   "outputs": [
    {
     "name": "stdout",
     "output_type": "stream",
     "text": [
      "Settings inputs...\n",
      "{name=Bob, familiar=false}\n",
      "Inputs set.\n",
      "Running scijava command: pyCommand.HelloCommand\n",
      "pyCommand.HelloCommand command execution done.\n",
      "Fetching outputs...\n",
      "Outputs set.\n"
     ]
    }
   ],
   "source": [
    "ij.command().run('pyCommand.HelloCommand', True, 'name', 'Bob') # familiar still required"
   ]
  },
  {
   "cell_type": "code",
   "execution_count": 10,
   "id": "50ee4a8b",
   "metadata": {},
   "outputs": [
    {
     "name": "stdout",
     "output_type": "stream",
     "text": [
      "Settings inputs...\n",
      "{name=Bob, familiar=true}\n",
      "Inputs set.\n",
      "Running scijava command: pyCommand.HelloCommand\n",
      "pyCommand.HelloCommand command execution done.\n",
      "Fetching outputs...\n",
      "Outputs set.\n"
     ]
    }
   ],
   "source": [
    "module = ij.command().run('pyCommand.HelloCommand', True, 'name', 'Bob', 'familiar', True) # all args given\n",
    "\n",
    "\n",
    "# nodule returns None: Weird : how can I retrieve the output ? Or maybe it's eaten by the GUI ?"
   ]
  },
  {
   "cell_type": "code",
   "execution_count": null,
   "id": "cc6da534",
   "metadata": {},
   "outputs": [],
   "source": [
    "# THIS CELL WON'T RUN\n",
    "# Idea, another way of registering of Command could be like this:\n",
    "\n",
    "@ScijavaFunctionDecorator\n",
    "def myCommand(name: JString, familiar:JBoolean)\n",
    "    greetings = \"Hello\" + name \n",
    "    return {'greetings':greetings, another param as a dictionary}\n",
    "\n",
    "# But I'm not sure the decorator can be aware of the 'output' signature, thus the decorator\n",
    "# will have a hard time, (maybe impossible?) to figure out the outputs and their class"
   ]
  }
 ],
 "metadata": {
  "kernelspec": {
   "display_name": "Python 3",
   "language": "python",
   "name": "python3"
  },
  "language_info": {
   "codemirror_mode": {
    "name": "ipython",
    "version": 3
   },
   "file_extension": ".py",
   "mimetype": "text/x-python",
   "name": "python",
   "nbconvert_exporter": "python",
   "pygments_lexer": "ipython3",
   "version": "3.8.6"
  }
 },
 "nbformat": 4,
 "nbformat_minor": 5
}
