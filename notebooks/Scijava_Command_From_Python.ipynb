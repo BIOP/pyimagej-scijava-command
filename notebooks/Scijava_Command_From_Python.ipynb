{
 "cells": [
  {
   "cell_type": "code",
   "execution_count": null,
   "id": "c5ffda30",
   "metadata": {},
   "outputs": [],
   "source": [
    "# For the creation of the ImageJ gateway\n",
    "import imagej\n",
    "from scyjava import jimport # To import java classes\n",
    "\n",
    "# For the ScijavaCommand decorator (TODO)\n",
    "import functools\n",
    "\n",
    "# jpype documentation: https://jpype.readthedocs.io/en/latest/\n",
    "#jpype imports\n",
    "import jpype\n",
    "from jpype import JImplements, JOverride\n",
    "# Pull in types\n",
    "from jpype.types import *\n",
    "\n",
    "# For example command\n",
    "import time\n",
    "from random import random"
   ]
  },
  {
   "cell_type": "markdown",
   "id": "d394a0e5",
   "metadata": {},
   "source": [
    "# PyImageJ initialisation\n",
    "\n",
    "See https://github.com/imagej/pyimagej for more details about ways to initialise pyimagej. Some demo notebooks are available in https://github.com/imagej/i2k-2020-pyimagej.\n",
    "* Here the most specific package is [`ch.epfl.biop:pyimagej-scijava-command`](https://github.com/NicoKiaru/PyImageJ-Notebooks) which contains [`PyCommandBuilder`](https://github.com/NicoKiaru/PyImageJ-Notebooks/blob/master/src/main/java/org/scijava/command/PyCommandBuilder.java), which is the class necessary to register a command from Python. It can also be used on the java side, but that's much less interesting.\n",
    "* `net.imagej:imagej-legacy` is also included. I don't know why it's necessary.\n"
   ]
  },
  {
   "cell_type": "code",
   "execution_count": null,
   "id": "7a19fe2b",
   "metadata": {},
   "outputs": [],
   "source": [
    "imagej_core_dep = 'net.imagej:imagej:2.1.0' \n",
    "scijava_command_dep = 'ch.epfl.biop:pyimagej-scijava-command:0.1.2'\n",
    "legacy_dep = 'net.imagej:imagej-legacy:0.37.4'\n",
    "\n",
    "ij = imagej.init([imagej_core_dep, legacy_dep, scijava_command_dep], headless=False)"
   ]
  },
  {
   "cell_type": "code",
   "execution_count": null,
   "id": "69e6cdcc",
   "metadata": {},
   "outputs": [],
   "source": [
    "# Import scijava classes using jimport\n",
    "Command = jimport('org.scijava.command.Command') # Just for the example, not necessary in the notebook\n",
    "JPlugin = jimport('org.scijava.plugin.Plugin')\n",
    "Parameter = jimport('org.scijava.plugin.Parameter')\n",
    "ImagePlus = jimport('ij.ImagePlus')"
   ]
  },
  {
   "cell_type": "code",
   "execution_count": null,
   "id": "c4252dc1",
   "metadata": {},
   "outputs": [],
   "source": [
    "# Different class which can be used as input or output parameter\n",
    "# points to java object\n",
    "print(JInt)\n",
    "print(JInt.class_)\n",
    "print(JBoolean)\n",
    "print(JBoolean.class_)\n",
    "print(ImagePlus)\n",
    "print(ImagePlus.class_)\n",
    "print(JString)\n",
    "print(JString.class_)\n",
    "\n",
    "# Not sure I understand\n",
    "print(type(JInt))\n",
    "\n",
    "# The class of a class is Class, ok\n",
    "print(type(JInt.class_))"
   ]
  },
  {
   "cell_type": "markdown",
   "id": "50404085",
   "metadata": {},
   "source": [
    "# **ScijavaCommand** decorator\n",
    "Decorator that registers a python CLASS containing a method named \"run\" as a scijava Command. This uses `PyCommandBuilder` which is in the java repo `ch.epfl.biop:pyimagej-scijava-command`. `PyCommandBuilder` allows to build and register a command fully programmatically without using any java annotation as java annotations are needed for 'easy' Scijavy Commands definition but these are not completely supported in JPype (https://github.com/jpype-project/jpype/issues/940)\n",
    "\n",
    "See cells below for example usage\n",
    "\n",
    "Notes: \n",
    "* this way of defining a command is probably not ideal if this has to be used from the python side also\n",
    "* WIP: this decorator prints a lot of stuff in the process\n",
    "* TODO : use functools to avoid hiding the function"
   ]
  },
  {
   "cell_type": "code",
   "execution_count": null,
   "id": "b7c7a3fa",
   "metadata": {},
   "outputs": [],
   "source": [
    "#org.scijava.command.PyCommandBuilder\n",
    "PyCommandBuilder = jimport('org.scijava.command.PyCommandBuilder')\n",
    "\n",
    "def ScijavaCommand(**kwargs):    \n",
    "    \n",
    "    print(\"- Registering scijava command \"+kwargs['name'])\n",
    "    \n",
    "    def registerCommand(func): \n",
    "        # This class will be registered as a SciJava Command\n",
    "        builder = PyCommandBuilder() # Java PyCommandBuilder\n",
    "        \n",
    "        # The name of the command - to avoid name conflicts, consider a 'virtual' class name with its package\n",
    "        builder = builder.name(kwargs['name'])\n",
    "        \n",
    "        # Register all inputs\n",
    "        print('- Inputs')\n",
    "        for name, javaClass in kwargs['inputs'].items():\n",
    "            print('\\t', name,' : ', javaClass)\n",
    "            builder = builder.input(name, javaClass)\n",
    "            setattr(func, name, None) # declares empty input field \n",
    "        print('Inputs registered')\n",
    "        \n",
    "        # Register all outputs\n",
    "        print('- Outputs')\n",
    "        for name, javaClass in kwargs['outputs'].items():\n",
    "            print('\\t', name,' : ', javaClass)\n",
    "            builder = builder.output(name, javaClass)\n",
    "            setattr(func, name, None) # declares empty output field\n",
    "        print('Outputs registered')\n",
    "                \n",
    "        # Wraps the run function - takes kwargs as input, returns outputs\n",
    "        def wrapped_run(inner_kwargs):\n",
    "            inner_object = func()\n",
    "            print('Settings inputs...')\n",
    "            print(inner_kwargs)\n",
    "            for name, javaClass in kwargs['inputs'].items():\n",
    "                #print(name)\n",
    "                #print(str(inner_kwargs[name]))\n",
    "                setattr(inner_object, name, inner_kwargs[name]) # sets inputs \n",
    "            print('Inputs set.')\n",
    "            print('Running scijava command: '+kwargs['name'])\n",
    "            inner_object.run() #I'm not sure this actually works\n",
    "            print(kwargs['name']+' command execution done.')\n",
    "            print('Fetching outputs...')\n",
    "            outputs = {}\n",
    "            for name, javaClass in kwargs['outputs'].items():\n",
    "                outputs[name] = getattr(inner_object, name) # gets outputs\n",
    "            print('Outputs set.')\n",
    "            return JObject(outputs, JClass('java.util.Map')) # Returns output as a java HashMap\n",
    "        \n",
    "        # Sets the function in PyCommandBuilder:\n",
    "        # Function<Map<String, Object>, Map<String, Object>> command\n",
    "        builder = builder.function(wrapped_run)\n",
    "        \n",
    "        # Effectively registers this command to the ij context\n",
    "        builder.create(kwargs['context']) \n",
    "        return func\n",
    "    \n",
    "    return registerCommand\n"
   ]
  },
  {
   "cell_type": "code",
   "execution_count": null,
   "id": "90e6728d",
   "metadata": {},
   "outputs": [],
   "source": [
    "# Now we can start the ui of ImageJ\n",
    "# look for and execute the command 'pyCommand.HelloCommand' in the search bar\n",
    "ij.ui().showUI()\n",
    "\n",
    "# pyCommand.HelloCommand can be recorded in ImageJ and executed using a command service, \n",
    "# either in groovy (or jython) scripting in ImageJ, or in this notebook as shown below"
   ]
  },
  {
   "cell_type": "code",
   "execution_count": null,
   "id": "ac8378d1",
   "metadata": {},
   "outputs": [],
   "source": [
    "# Example of registering a Scijava Command via the @ScijavaCommand decorator\n",
    "\n",
    "@ScijavaCommand(context = ij.context(), # ij context needed\n",
    "                name = 'pyCommand.HelloCommand', # name of this command, mind potential naming conflicts!\n",
    "                inputs = {'name': JString, 'familiar': JBoolean}, # input name, input Java class, as dictionary\n",
    "                outputs = {'greetings': JString}) # output name, output Java class, as dictionary\n",
    "class MyPyCommand:        \n",
    "    def run(self):\n",
    "        if (self.familiar):\n",
    "            self.greetings = 'Hi ' + str(self.name) + '!'\n",
    "        else:\n",
    "            self.greetings = 'Hello my dear ' + str(self.name) + '.'\n"
   ]
  },
  {
   "cell_type": "code",
   "execution_count": null,
   "id": "c4770bf0",
   "metadata": {},
   "outputs": [],
   "source": [
    "# Example of registering a Scijava Command via the @ScijavaCommand decorator\n",
    "\n",
    "@ScijavaCommand(context = ij.context(), # ij context needed\n",
    "                name = 'pyCommand.RandomWaitReturnTime', # name of this command, mind potential naming conflicts!\n",
    "                inputs = {'commandTag': JString}, # input name, input Java class, as dictionary\n",
    "                outputs = {'waitedTime': JDouble}) # output name, output Java class, as dictionary\n",
    "class RandomWaitCommand:        \n",
    "    def run(self):\n",
    "        waitInS = random()*5\n",
    "        print(\"Starting \" + str(self.commandTag) + \" T = \"+str(waitInS))\n",
    "        time.sleep(waitInS)\n",
    "        print(\"Ending \" + str(self.commandTag))\n",
    "        self.waitedTime = JDouble(waitInS)"
   ]
  },
  {
   "cell_type": "code",
   "execution_count": null,
   "id": "55497bac",
   "metadata": {},
   "outputs": [],
   "source": [
    "# Example of registering a Scijava Command via the @ScijavaCommand decorator\n",
    "\n",
    "@ScijavaCommand(context = ij.context(), # ij context needed\n",
    "                name = 'pyCommand.SliceImage2D', # name of this command, mind potential naming conflicts!\n",
    "                inputs = {'image_in': ImagePlus}, # input name, input Java class, as dictionary\n",
    "                outputs = {'image_out': ImagePlus}) # output name, output Java class, as dictionary\n",
    "class SliceCommand:        \n",
    "    def run(self):\n",
    "        img_python = ij.py.from_java(self.image_in)\n",
    "        print(img_python.shape)\n",
    "        print(\"TODO : slicing the image!\")\n",
    "        ij.py.show(img_python, cmap = 'gray')\n",
    "        self.image_out = ij.py.to_java(img_python)\n"
   ]
  },
  {
   "cell_type": "code",
   "execution_count": null,
   "id": "e5070e38",
   "metadata": {},
   "outputs": [],
   "source": [
    "ij.command().run('pyCommand.HelloCommand', True) # no args -> all inputs required, check the UI!"
   ]
  },
  {
   "cell_type": "code",
   "execution_count": null,
   "id": "662cb96e",
   "metadata": {},
   "outputs": [],
   "source": [
    "ij.command().run('pyCommand.HelloCommand', True, 'name', 'Bob') # familiar still required"
   ]
  },
  {
   "cell_type": "code",
   "execution_count": null,
   "id": "b0b1ae46",
   "metadata": {},
   "outputs": [],
   "source": [
    "module = ij.command().run('pyCommand.HelloCommand', True, 'name', 'Bob', 'familiar', True) # all args given\n",
    "\n",
    "\n",
    "# nodule returns None: Weird : how can I retrieve the output ? Or maybe it's eaten by the GUI ?"
   ]
  },
  {
   "cell_type": "code",
   "execution_count": null,
   "id": "d781fc78",
   "metadata": {},
   "outputs": [],
   "source": [
    "# THIS CELL WON'T RUN\n",
    "# Idea, another way of registering of Command could be like this:\n",
    "\n",
    "@ScijavaFunctionDecorator\n",
    "def myCommand(name: JString, familiar:JBoolean)\n",
    "    greetings = \"Hello\" + name \n",
    "    return {'greetings':greetings, another param as a dictionary}\n",
    "\n",
    "# But I'm not sure the decorator can be aware of the 'output' signature, thus the decorator\n",
    "# will have a hard time, (maybe impossible?) to figure out the outputs and their class"
   ]
  },
  {
   "cell_type": "code",
   "execution_count": null,
   "id": "a3e82c35",
   "metadata": {},
   "outputs": [],
   "source": [
    "\n",
    "waitInS = random()*5\n",
    "print(\"Now Waiting \"+str(waitInS))\n",
    "time.sleep(waitInS)\n",
    "print(\"Ze end!\")"
   ]
  },
  {
   "cell_type": "code",
   "execution_count": null,
   "id": "a9db6902",
   "metadata": {},
   "outputs": [],
   "source": []
  },
  {
   "cell_type": "code",
   "execution_count": null,
   "id": "939b6682",
   "metadata": {},
   "outputs": [],
   "source": []
  }
 ],
 "metadata": {
  "kernelspec": {
   "display_name": "Python 3",
   "language": "python",
   "name": "python3"
  },
  "language_info": {
   "codemirror_mode": {
    "name": "ipython",
    "version": 3
   },
   "file_extension": ".py",
   "mimetype": "text/x-python",
   "name": "python",
   "nbconvert_exporter": "python",
   "pygments_lexer": "ipython3",
   "version": "3.6.13"
  }
 },
 "nbformat": 4,
 "nbformat_minor": 5
}
